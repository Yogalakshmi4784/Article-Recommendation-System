{
 "cells": [
  {
   "cell_type": "markdown",
   "id": "395fcd95",
   "metadata": {},
   "source": [
    "# Build recommendation system to recommend articles"
   ]
  },
  {
   "cell_type": "markdown",
   "id": "9bbda8a7",
   "metadata": {},
   "source": [
    "# Objective:"
   ]
  },
  {
   "cell_type": "markdown",
   "id": "4b7bba6f",
   "metadata": {},
   "source": [
    "The goal of this challenge is to build recommendation system to recommend articles to their readers."
   ]
  },
  {
   "cell_type": "markdown",
   "id": "6f3788fa",
   "metadata": {},
   "source": [
    "Many websites today use a recommendation system to recommend articles to their readers. For example, Most websites like Quora, LinkedIn, Medium are also using a recommendation system to recommend articles to its readers"
   ]
  },
  {
   "cell_type": "markdown",
   "id": "9894a8ba",
   "metadata": {},
   "source": [
    "# Step 1: Import all the required libraries"
   ]
  },
  {
   "cell_type": "code",
   "execution_count": 5,
   "id": "362b4746",
   "metadata": {},
   "outputs": [],
   "source": [
    "import pandas as pd\n",
    "import numpy as np\n",
    "from sklearn.feature_extraction import text\n",
    "from sklearn.metrics.pairwise import cosine_similarity\n",
    "import warnings\n",
    "warnings.filterwarnings('ignore')"
   ]
  },
  {
   "cell_type": "markdown",
   "id": "57c6d3b3",
   "metadata": {},
   "source": [
    "# Step 2 : Read dataset and basic details of dataset"
   ]
  },
  {
   "cell_type": "code",
   "execution_count": 9,
   "id": "9db8aa77",
   "metadata": {},
   "outputs": [
    {
     "data": {
      "text/html": [
       "<div>\n",
       "<style scoped>\n",
       "    .dataframe tbody tr th:only-of-type {\n",
       "        vertical-align: middle;\n",
       "    }\n",
       "\n",
       "    .dataframe tbody tr th {\n",
       "        vertical-align: top;\n",
       "    }\n",
       "\n",
       "    .dataframe thead th {\n",
       "        text-align: right;\n",
       "    }\n",
       "</style>\n",
       "<table border=\"1\" class=\"dataframe\">\n",
       "  <thead>\n",
       "    <tr style=\"text-align: right;\">\n",
       "      <th></th>\n",
       "      <th>Article</th>\n",
       "      <th>Title</th>\n",
       "    </tr>\n",
       "  </thead>\n",
       "  <tbody>\n",
       "    <tr>\n",
       "      <th>0</th>\n",
       "      <td>Data analysis is the process of inspecting and...</td>\n",
       "      <td>Best Books to Learn Data Analysis</td>\n",
       "    </tr>\n",
       "    <tr>\n",
       "      <th>1</th>\n",
       "      <td>The performance of a machine learning algorith...</td>\n",
       "      <td>Assumptions of Machine Learning Algorithms</td>\n",
       "    </tr>\n",
       "    <tr>\n",
       "      <th>2</th>\n",
       "      <td>You must have seen the news divided into categ...</td>\n",
       "      <td>News Classification with Machine Learning</td>\n",
       "    </tr>\n",
       "    <tr>\n",
       "      <th>3</th>\n",
       "      <td>When there are only two classes in a classific...</td>\n",
       "      <td>Multiclass Classification Algorithms in Machin...</td>\n",
       "    </tr>\n",
       "    <tr>\n",
       "      <th>4</th>\n",
       "      <td>The Multinomial Naive Bayes is one of the vari...</td>\n",
       "      <td>Multinomial Naive Bayes in Machine Learning</td>\n",
       "    </tr>\n",
       "  </tbody>\n",
       "</table>\n",
       "</div>"
      ],
      "text/plain": [
       "                                             Article  \\\n",
       "0  Data analysis is the process of inspecting and...   \n",
       "1  The performance of a machine learning algorith...   \n",
       "2  You must have seen the news divided into categ...   \n",
       "3  When there are only two classes in a classific...   \n",
       "4  The Multinomial Naive Bayes is one of the vari...   \n",
       "\n",
       "                                               Title  \n",
       "0                  Best Books to Learn Data Analysis  \n",
       "1         Assumptions of Machine Learning Algorithms  \n",
       "2          News Classification with Machine Learning  \n",
       "3  Multiclass Classification Algorithms in Machin...  \n",
       "4        Multinomial Naive Bayes in Machine Learning  "
      ]
     },
     "execution_count": 9,
     "metadata": {},
     "output_type": "execute_result"
    }
   ],
   "source": [
    "df=pd.read_csv(\"https://raw.githubusercontent.com/amankharwal/Website-data/master/articles.csv\", encoding='latin1')\n",
    "df.head()"
   ]
  },
  {
   "cell_type": "markdown",
   "id": "eea3677a",
   "metadata": {},
   "source": [
    "# Step 3: Creating Recommendation System using Cosine Similarity"
   ]
  },
  {
   "cell_type": "code",
   "execution_count": 10,
   "id": "725026ec",
   "metadata": {},
   "outputs": [],
   "source": [
    "articles=list(df['Article'])"
   ]
  },
  {
   "cell_type": "code",
   "execution_count": 25,
   "id": "4aa33c81",
   "metadata": {},
   "outputs": [],
   "source": [
    "uni_tfidf=text.TfidfVectorizer(input=articles,stop_words='english')"
   ]
  },
  {
   "cell_type": "markdown",
   "id": "fd325920",
   "metadata": {},
   "source": [
    "This line creates a TF-IDF vectorizer (uni_tfidf) using scikit-learn's TfidfVectorizer class. This vectorizer is configured to transform the text data in articles into TF-IDF features. The stop_words=\"english\" parameter specifies that common English stop words should be ignored during the vectorization process"
   ]
  },
  {
   "cell_type": "code",
   "execution_count": 13,
   "id": "6af0d15f",
   "metadata": {},
   "outputs": [],
   "source": [
    "uni_matrix=uni_tfidf.fit_transform(articles)"
   ]
  },
  {
   "cell_type": "markdown",
   "id": "e2d8a21e",
   "metadata": {},
   "source": [
    "This line transforms the text data (articles) into a sparse matrix (uni_matrix) of TF-IDF features using the vectorizer (uni_tfidf). The resulting matrix represents the articles in the TF-IDF feature space."
   ]
  },
  {
   "cell_type": "code",
   "execution_count": 16,
   "id": "730f1e16",
   "metadata": {},
   "outputs": [],
   "source": [
    "uni_sim=cosine_similarity(uni_matrix)"
   ]
  },
  {
   "cell_type": "markdown",
   "id": "5d872cd4",
   "metadata": {},
   "source": [
    "This line calculates the cosine similarity matrix (uni_sim) based on the TF-IDF features. Cosine similarity is a measure of similarity between two non-zero vectors in an inner product space. In this context, it is used to measure the similarity between pairs of articles based on their TF-IDF representations."
   ]
  },
  {
   "cell_type": "code",
   "execution_count": 18,
   "id": "2481991c",
   "metadata": {},
   "outputs": [],
   "source": [
    "def recommend_articles(x):\n",
    "    return ' '.join(df['Title'].loc[x.argsort()])\n"
   ]
  },
  {
   "cell_type": "markdown",
   "id": "03346c05",
   "metadata": {},
   "source": [
    "This line defines a function named recommend_articles that takes a vector x (presumably a row from the cosine similarity matrix) as input. The function sorts the elements of x in ascending order and extracts the top 5 indices (excluding the highest similarity, which is with itself) using x.argsort()[-5:-1]. It then retrieves the corresponding article titles from the \"Title\" column of the DataFrame (df) and joins them into a string."
   ]
  },
  {
   "cell_type": "code",
   "execution_count": 19,
   "id": "762291b2",
   "metadata": {},
   "outputs": [],
   "source": [
    "df['Recommended Articles']=[recommend_articles(x) for x in uni_sim]"
   ]
  },
  {
   "cell_type": "markdown",
   "id": "1d5dfe30",
   "metadata": {},
   "source": [
    "This line applies the recommend_articles function to each row of the cosine similarity matrix (uni_sim) and stores the recommended articles in a new column named \"Recommended Articles\" in the DataFrame (df)."
   ]
  },
  {
   "cell_type": "code",
   "execution_count": 20,
   "id": "920c86ad",
   "metadata": {},
   "outputs": [
    {
     "data": {
      "text/html": [
       "<div>\n",
       "<style scoped>\n",
       "    .dataframe tbody tr th:only-of-type {\n",
       "        vertical-align: middle;\n",
       "    }\n",
       "\n",
       "    .dataframe tbody tr th {\n",
       "        vertical-align: top;\n",
       "    }\n",
       "\n",
       "    .dataframe thead th {\n",
       "        text-align: right;\n",
       "    }\n",
       "</style>\n",
       "<table border=\"1\" class=\"dataframe\">\n",
       "  <thead>\n",
       "    <tr style=\"text-align: right;\">\n",
       "      <th></th>\n",
       "      <th>Article</th>\n",
       "      <th>Title</th>\n",
       "      <th>Recommended Articles</th>\n",
       "    </tr>\n",
       "  </thead>\n",
       "  <tbody>\n",
       "    <tr>\n",
       "      <th>0</th>\n",
       "      <td>Data analysis is the process of inspecting and...</td>\n",
       "      <td>Best Books to Learn Data Analysis</td>\n",
       "      <td>Naive Bayes Algorithm in Machine Learning K-Me...</td>\n",
       "    </tr>\n",
       "    <tr>\n",
       "      <th>1</th>\n",
       "      <td>The performance of a machine learning algorith...</td>\n",
       "      <td>Assumptions of Machine Learning Algorithms</td>\n",
       "      <td>Introduction to Recommendation Systems Best Py...</td>\n",
       "    </tr>\n",
       "    <tr>\n",
       "      <th>2</th>\n",
       "      <td>You must have seen the news divided into categ...</td>\n",
       "      <td>News Classification with Machine Learning</td>\n",
       "      <td>Best Books to Learn Computer Vision Best Books...</td>\n",
       "    </tr>\n",
       "    <tr>\n",
       "      <th>3</th>\n",
       "      <td>When there are only two classes in a classific...</td>\n",
       "      <td>Multiclass Classification Algorithms in Machin...</td>\n",
       "      <td>Send Instagram Messages using Python For Loop ...</td>\n",
       "    </tr>\n",
       "    <tr>\n",
       "      <th>4</th>\n",
       "      <td>The Multinomial Naive Bayes is one of the vari...</td>\n",
       "      <td>Multinomial Naive Bayes in Machine Learning</td>\n",
       "      <td>Squid Game Sentiment Analysis using Python Swa...</td>\n",
       "    </tr>\n",
       "  </tbody>\n",
       "</table>\n",
       "</div>"
      ],
      "text/plain": [
       "                                             Article  \\\n",
       "0  Data analysis is the process of inspecting and...   \n",
       "1  The performance of a machine learning algorith...   \n",
       "2  You must have seen the news divided into categ...   \n",
       "3  When there are only two classes in a classific...   \n",
       "4  The Multinomial Naive Bayes is one of the vari...   \n",
       "\n",
       "                                               Title  \\\n",
       "0                  Best Books to Learn Data Analysis   \n",
       "1         Assumptions of Machine Learning Algorithms   \n",
       "2          News Classification with Machine Learning   \n",
       "3  Multiclass Classification Algorithms in Machin...   \n",
       "4        Multinomial Naive Bayes in Machine Learning   \n",
       "\n",
       "                                Recommended Articles  \n",
       "0  Naive Bayes Algorithm in Machine Learning K-Me...  \n",
       "1  Introduction to Recommendation Systems Best Py...  \n",
       "2  Best Books to Learn Computer Vision Best Books...  \n",
       "3  Send Instagram Messages using Python For Loop ...  \n",
       "4  Squid Game Sentiment Analysis using Python Swa...  "
      ]
     },
     "execution_count": 20,
     "metadata": {},
     "output_type": "execute_result"
    }
   ],
   "source": [
    "df.head()"
   ]
  },
  {
   "cell_type": "code",
   "execution_count": 21,
   "id": "da148e03",
   "metadata": {},
   "outputs": [
    {
     "name": "stdout",
     "output_type": "stream",
     "text": [
      "Best Books to Learn Computer Vision Best Books to Learn Data Analysis Best Python Frameworks to Build APIs Squid Game Sentiment Analysis using Python Tata Motors Stock Price Prediction with Machine Learning Health Insurance Premium Prediction with Machine Learning Pfizer Vaccine Sentiment Analysis using Python Swap Items of a Python List Animated Scatter Plot using Python Send Instagram Messages using Python Voice Recorder using Python Introduction to Recommendation Systems Best Resources to Learn Python Best Books to Learn NLP Language Detection with Machine Learning News Classification with Machine Learning News Classification with Machine Learning Apple Stock Price Prediction with Machine Learning Types of Neural Networks Multilayer Perceptron in Machine Learning Multiclass Classification Algorithms in Machine Learning For Loop Over Keys and Values in a Python Dictionary Best Books to Learn Deep Learning Multinomial Naive Bayes in Machine Learning Applications of Deep Learning Naive Bayes Algorithm in Machine Learning Use Cases of Different Machine Learning Algorithms Assumptions of Machine Learning Algorithms Mean Shift Clustering in Machine Learning BIRCH Clustering in Machine Learning Clustering Algorithms in Machine Learning DBSCAN Clustering in Machine Learning K-Means Clustering in Machine Learning Agglomerative Clustering in Machine Learning\n"
     ]
    }
   ],
   "source": [
    "print(df['Recommended Articles'][22])"
   ]
  },
  {
   "cell_type": "code",
   "execution_count": 22,
   "id": "1d748c59",
   "metadata": {},
   "outputs": [],
   "source": [
    "# Index 22 contains an article on “agglomerated clustering”, and all the recommended\n",
    "# articles are also based on the concepts of clustering, so we can say that this \n",
    "# recommender system can also give great results in real-time."
   ]
  }
 ],
 "metadata": {
  "kernelspec": {
   "display_name": "Python 3 (ipykernel)",
   "language": "python",
   "name": "python3"
  },
  "language_info": {
   "codemirror_mode": {
    "name": "ipython",
    "version": 3
   },
   "file_extension": ".py",
   "mimetype": "text/x-python",
   "name": "python",
   "nbconvert_exporter": "python",
   "pygments_lexer": "ipython3",
   "version": "3.9.13"
  }
 },
 "nbformat": 4,
 "nbformat_minor": 5
}
